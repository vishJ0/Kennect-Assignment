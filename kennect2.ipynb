{
 "cells": [
  {
   "cell_type": "markdown",
   "metadata": {},
   "source": [
    "A.96 http server\n"
   ]
  },
  {
   "cell_type": "code",
   "execution_count": null,
   "metadata": {},
   "outputs": [],
   "source": [
    "from http. server import HTTPServer, BaseHTTPRequestHandler\n",
    "import time\n",
    "HOST = \"192.168.0.286\"\n",
    "PORT = 9999\n",
    "class NeuralHTTP (BaseHTTPRequestHandler):\n",
    "    def do GET (self):\n",
    "        self.send_response (200)\n",
    "        self. send_header (\"Content-type\", \"text/html\")\n",
    "        self.end_headers\n",
    "        self.wfile.write (bytes(\"<htl><body><h1>HELLO WORLD!</h1></body></html>\", \"utf-8\"))\n",
    "\n",
    "    def do POST (self):\n",
    "     self. send_response (200)\n",
    "     self. send_header (\"Content-type\", \"application/json\")\n",
    "     self. end_headers\n",
    "     date = time. strftime (\"%Y-%m-%d %H % %M:%S\", time. localtime (time. time ()))\n",
    "     self. wfile. write (bytes ('{\"time\": III + date + '\"}, \"utf-8\"))\n",
    "\n",
    "\n",
    "\n",
    "server = HTTPServer (CHOST, PORT), NeuralHTTP)\n",
    "print (\"Server now running...\")\n",
    "server. serve_forever\n",
    "server. server_close\n",
    "print (\"Server stopped!\")\n",
    "\n",
    "\n"
   ]
  },
  {
   "cell_type": "code",
   "execution_count": null,
   "metadata": {},
   "outputs": [],
   "source": [
    "#For 6 days \n",
    "\n",
    "\n",
    "\n",
    "date_1 = datetime.datetime.strptime(start_date, \"%m/%d/%y\")\n",
    "\n",
    "end_date = date_1 + datetime.timedelta(days=10)\n",
    "\n",
    "# For 6 weeks\n",
    "\n",
    "import datetime\n",
    "u = datetime.datetime.strptime(\"2011-01-01\",\"%Y-%m-%d\")\n",
    "d = datetime.timedelta(days=21)\n",
    "t = u + d\n",
    "print(t)\n",
    "2011-01-22 00:00:00\n",
    "\n",
    "\n",
    "# to subtract 187 days\n",
    "\n",
    "from datetime import datetime, timedelta\n",
    "    \n",
    "d = datetime.today() - timedelta(days=days_to_subtract)"
   ]
  }
 ],
 "metadata": {
  "kernelspec": {
   "display_name": "Python 3.10.5 64-bit",
   "language": "python",
   "name": "python3"
  },
  "language_info": {
   "codemirror_mode": {
    "name": "ipython",
    "version": 3
   },
   "file_extension": ".py",
   "mimetype": "text/x-python",
   "name": "python",
   "nbconvert_exporter": "python",
   "pygments_lexer": "ipython3",
   "version": "3.10.5"
  },
  "orig_nbformat": 4,
  "vscode": {
   "interpreter": {
    "hash": "ee5e405c00a222202bf8d60a189470d0f00b606dd07429b5cfe5eb3d178e9826"
   }
  }
 },
 "nbformat": 4,
 "nbformat_minor": 2
}
