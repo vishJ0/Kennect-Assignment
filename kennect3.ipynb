{
 "cells": [
  {
   "cell_type": "markdown",
   "metadata": {},
   "source": [
    "A11.3\n"
   ]
  },
  {
   "cell_type": "code",
   "execution_count": null,
   "metadata": {},
   "outputs": [],
   "source": [
    "class Solution:\n",
    "\tdef trap(self, height: List[int]) -> int:\n",
    "\n",
    "\t\tlength = len(height)\n",
    "\n",
    "\t\tleft = [0] * length\n",
    "\t\tright = [0] * length\n",
    "\n",
    "\t\tleft[0] = height[0]\n",
    "\t\tright[-1] = height[-1]\n",
    "\n",
    "\t\tstart = 0\n",
    "\t\twhile start < length:\n",
    "\t\t\tleft[start] = max(left[start - 1], height[start])\n",
    "\t\t\tstart = start + 1\n",
    "\n",
    "\t\tend = length - 2\n",
    "\t\twhile end > -1:\n",
    "\t\t\tright[end] = max(right[end + 1], height[end])\n",
    "\t\t\tend = end - 1\n",
    "\n",
    "\t\tresult = 0\n",
    "\n",
    "\t\tfor index in range(length):\n",
    "\t\t\tresult = result + min(left[index], right[index]) - height[index]\n",
    "\n",
    "\t\treturn result"
   ]
  },
  {
   "cell_type": "markdown",
   "metadata": {},
   "source": []
  }
 ],
 "metadata": {
  "kernelspec": {
   "display_name": "Python 3.10.5 64-bit",
   "language": "python",
   "name": "python3"
  },
  "language_info": {
   "codemirror_mode": {
    "name": "ipython",
    "version": 3
   },
   "file_extension": ".py",
   "mimetype": "text/x-python",
   "name": "python",
   "nbconvert_exporter": "python",
   "pygments_lexer": "ipython3",
   "version": "3.10.5"
  },
  "orig_nbformat": 4,
  "vscode": {
   "interpreter": {
    "hash": "ee5e405c00a222202bf8d60a189470d0f00b606dd07429b5cfe5eb3d178e9826"
   }
  }
 },
 "nbformat": 4,
 "nbformat_minor": 2
}
